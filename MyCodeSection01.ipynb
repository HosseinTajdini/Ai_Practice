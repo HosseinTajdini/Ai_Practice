{
 "cells": [
  {
   "cell_type": "code",
   "execution_count": 1,
   "id": "c33991cb-6dce-45a0-b0e2-187cd9605360",
   "metadata": {},
   "outputs": [],
   "source": [
    "import torch\n",
    "import numpy as np\n",
    "import matplotlib.pyplot as plt\n",
    "import seaborn as sns\n",
    "import pandas as pd\n",
    "from torch import nn#contains all of pytorch's building blocks for neural networks\n",
    "%matplotlib inline"
   ]
  },
  {
   "cell_type": "markdown",
   "id": "0cd7189f-cfa9-4fb0-b459-8f6dcdc11107",
   "metadata": {},
   "source": [
    "## 1.Data (prepairing and loading)\n",
    "\n",
    "Data can be almost anything\n",
    "\n",
    "Machine Learning is a game of two part:\n",
    "1. Get data to numerical representation.\n",
    "2. Build a model to learn patterns in that numerical representation.\n",
    "\n"
   ]
  },
  {
   "cell_type": "code",
   "execution_count": 2,
   "id": "f5251fd5-f01b-4a14-9d4c-995b4c419ac2",
   "metadata": {},
   "outputs": [],
   "source": [
    "#Create *know* parameters\n",
    "weight=0.7\n",
    "bias=0.3\n",
    "\n",
    "#Create\n",
    "start=0\n",
    "end=1\n",
    "step=0.02\n",
    "X=torch.arange(start,end,step).unsqueeze(dim=1)\n",
    "y=weight*X+bias\n"
   ]
  },
  {
   "cell_type": "markdown",
   "id": "c808f2e2-e618-4d71-9691-f2ce63d23655",
   "metadata": {},
   "source": [
    "## Splitting data into training and test set "
   ]
  },
  {
   "cell_type": "code",
   "execution_count": 3,
   "id": "ae584156-8462-4e06-bccf-d61eecd3f069",
   "metadata": {},
   "outputs": [],
   "source": [
    "#Create \n",
    "train_split=int(0.8*len(X))\n",
    "X_train,y_train,X_test,y_test=X[:train_split],y[:train_split],X[train_split:],y[train_split:]"
   ]
  },
  {
   "cell_type": "code",
   "execution_count": 4,
   "id": "8d691edf-c79c-4efb-ad7a-361ed27b4806",
   "metadata": {},
   "outputs": [],
   "source": [
    "def plot_predictions(train_data=X_train\n",
    "                     ,train_lables=y_train\n",
    "                     ,test_data=X_test\n",
    "                     ,test_lables=y_test\n",
    "                     ,predictions=None):\n",
    "    \"\"\"\n",
    "    Plots training data,test data and compares predictions\n",
    "    \"\"\"\n",
    "    plt.figure(figsize=(6,6))\n",
    "    #plot train data in blue\n",
    "    plt.scatter(train_data,train_lables,c='b',s=20,label=\"Training Data\")\n",
    "     #plot test data in green\n",
    "    plt.scatter(test_data,test_lables,c='g',s=20,label=\"Testing Data\")\n",
    "\n",
    "    if predictions is not None:\n",
    "        #plot the predictions if they exist\n",
    "        plt.scatter(test_data,predictions,c='r',s=20,label=\"Predictions\")\n",
    "    #show legend\n",
    "    plt.legend(prop={'size':14})\n",
    "        \n",
    "    "
   ]
  },
  {
   "cell_type": "code",
   "execution_count": 5,
   "id": "38825d88-d656-4bee-b959-d1983f627eb7",
   "metadata": {},
   "outputs": [
    {
     "data": {
      "image/png": "[encoded data removed]",
      "text/plain": [
       "<Figure size 600x600 with 1 Axes>"
      ]
     },
     "metadata": {},
     "output_type": "display_data"
    }
   ],
   "source": [
    "plot_predictions()"
   ]
  },
  {
   "cell_type": "markdown",
   "id": "4cb1e537-8ccc-4ea6-9175-03fdd33c4d08",
   "metadata": {},
   "source": [
    "## 2.Build model"
   ]
  },
  {
   "cell_type": "code",
   "execution_count": 6,
   "id": "3b5348c1-b155-4044-81a5-53da44268a0e",
   "metadata": {},
   "outputs": [],
   "source": [
    "from torch import nn\n",
    "class LinearRegressionModel(nn.Module):\n",
    "    def __init__(self):\n",
    "        super().__init__()\n",
    "        self.weights=nn.Parameter(torch.randn(1,\n",
    "                                             requires_grad=True,\n",
    "                                             dtype=torch.float))\n",
    "        self.bias=nn.Parameter(torch.randn(1,\n",
    "                                             requires_grad=True,\n",
    "                                             dtype=torch.float))\n",
    "    #Forward method to define the computation in the model\n",
    "    def forward(self,x:torch.Tensor)-> torch.Tensor:\n",
    "        return self.weights*x+self.bias"
   ]
  },
  {
   "cell_type": "markdown",
   "id": "31b19d32-c189-41d8-98d3-300036f63836",
   "metadata": {},
   "source": [
    "### PyTorch model building essentials\n",
    "\n",
    "PyTorch has four (give or take) essential modules you can use to create almost any kind of neural network you can imagine.\n",
    "\n",
    "They are [`torch.nn`](https://pytorch.org/docs/stable/nn.html), [`torch.optim`](https://pytorch.org/docs/stable/optim.html), [`torch.utils.data.Dataset`](https://pytorch.org/docs/stable/data.html#torch.utils.data.Dataset) and [`torch.utils.data.DataLoader`](https://pytorch.org/docs/stable/data.html). For now, we'll focus on the first two and get to the other two later (though you may be able to guess what they do).\n",
    "\n",
    "| PyTorch module | What does it do? |\n",
    "| ----- | ----- |\n",
    "| [`torch.nn`](https://pytorch.org/docs/stable/nn.html) | Contains all of the building blocks for computational graphs (essentially a series of computations executed in a particular way). |\n",
    "| [`torch.nn.Parameter`](https://pytorch.org/docs/stable/generated/torch.nn.parameter.Parameter.html#parameter) | Stores tensors that can be used with `nn.Module`. If `requires_grad=True` gradients (used for updating model parameters via [**gradient descent**](https://ml-cheatsheet.readthedocs.io/en/latest/gradient_descent.html))  are calculated automatically, this is often referred to as \"autograd\".  | \n",
    "| [`torch.nn.Module`](https://pytorch.org/docs/stable/generated/torch.nn.Module.html#torch.nn.Module) | The base class for all neural network modules, all the building blocks for neural networks are subclasses. If you're building a neural network in PyTorch, your models should subclass `nn.Module`. Requires a `forward()` method be implemented. | \n",
    "| [`torch.optim`](https://pytorch.org/docs/stable/optim.html) | Contains various optimization algorithms (these tell the model parameters stored in `nn.Parameter` how to best change to improve gradient descent and in turn reduce the loss). | \n",
    "| `def forward()` | All `nn.Module` subclasses require a `forward()` method, this defines the computation that will take place on the data passed to the particular `nn.Module` (e.g. the linear regression formula above). |\n",
    "\n",
    "If the above sounds complex, think of like this, almost everything in a PyTorch neural network comes from `torch.nn`,\n",
    "* `nn.Module` contains the larger building blocks (layers)\n",
    "* `nn.Parameter` contains the smaller parameters like weights and biases (put these together to make `nn.Module`(s))\n",
    "* `forward()` tells the larger blocks how to make calculations on inputs (tensors full of data) within  `nn.Module`(s)\n",
    "* `torch.optim` contains optimization methods on how to improve the parameters within `nn.Parameter` to better represent input data \n",
    "\n",
    "![a pytorch linear model with annotations](https://raw.githubusercontent.com/mrdbourke/pytorch-deep-learning/main/images/01-pytorch-linear-model-annotated.png)\n",
    "*Basic building blocks of creating a PyTorch model by subclassing `nn.Module`. For objects that subclass `nn.Module`, the `forward()` method must be defined.*\n",
    "\n",
    "> **Resource:** See more of these essential modules and their use cases in the [PyTorch Cheat Sheet](https://pytorch.org/tutorials/beginner/ptcheat.html). \n"
   ]
  },
  {
   "cell_type": "markdown",
   "id": "23d9b497-fca5-48f1-8ea7-456ac02d17f6",
   "metadata": {},
   "source": [
    "\n",
    "### Checking the contents of a PyTorch model\n",
    "Now we've got these out of the way, let's create a model instance with the class we've made and check its parameters using [`.parameters()`](https://pytorch.org/docs/stable/generated/torch.nn.Module.html#torch.nn.Module.parameters). "
   ]
  },
  {
   "cell_type": "code",
   "execution_count": 7,
   "id": "7f2e449f-5c85-42e4-8219-1383f8c100c6",
   "metadata": {},
   "outputs": [],
   "source": [
    "# create a rando, seed\n",
    "torch.manual_seed(42)\n",
    "#create an instance of the model\n",
    "model_0=LinearRegressionModel()"
   ]
  },
  {
   "cell_type": "code",
   "execution_count": 8,
   "id": "b9d721e2-872d-474c-b134-a8ead9883a0c",
   "metadata": {},
   "outputs": [
    {
     "data": {
      "text/plain": [
       "OrderedDict([('weights', tensor([0.3367])), ('bias', tensor([0.1288]))])"
      ]
     },
     "execution_count": 8,
     "metadata": {},
     "output_type": "execute_result"
    }
   ],
   "source": [
    "model_0.state_dict()"
   ]
  },
  {
   "cell_type": "markdown",
   "id": "ede4c2b3-8baa-409f-9cac-1f7961861245",
   "metadata": {},
   "source": [
    "## Making prediction using `torch.inference_mode()`\n",
    "to check our model predective power let's see how  well it predicts `y_test` based on `X_test`.\n",
    "\n",
    "when we pass data through our model, it's going to run it through the `forward()` method"
   ]
  },
  {
   "cell_type": "code",
   "execution_count": 14,
   "id": "513ff97e-0ca8-4761-85f9-79654a8624ce",
   "metadata": {},
   "outputs": [
    {
     "data": {
      "image/png": "[encoded data removed]",
      "text/plain": [
       "<Figure size 600x600 with 1 Axes>"
      ]
     },
     "metadata": {},
     "output_type": "display_data"
    }
   ],
   "source": [
    "#Make prediction with model\n",
    "with torch.inference_mode():\n",
    "    y_preds=model_0(X_test)\n",
    "plot_predictions(predictions=y_preds)\n",
    "    "
   ]
  },
  {
   "cell_type": "code",
   "execution_count": null,
   "id": "8aad2d50-0ae5-429a-ba0c-da7c9ebf0ad4",
   "metadata": {},
   "outputs": [],
   "source": []
  },
  {
   "cell_type": "markdown",
   "id": "3bb7d013-a5f5-4b77-80e8-a45e28e92d10",
   "metadata": {},
   "source": [
    "## 3. Train model\n",
    "\n",
    "Right now our model is making predictions using random parameters to make calculations, it's basically guessing (randomly).\n",
    "\n",
    "To fix that, we can update its internal parameters (I also refer to *parameters* as patterns), the `weights` and `bias` values we set randomly using `nn.Parameter()` and `torch.randn()` to be something that better represents the data.\n",
    "\n",
    "We could hard code this (since we know the default values `weight=0.7` and `bias=0.3`) but where's the fun in that?\n",
    "\n",
    "Much of the time you won't know what the ideal parameters are for a model.\n",
    "\n",
    "Instead, it's much more fun to write code to see if the model can try and figure them out itself.\n",
    "\n"
   ]
  },
  {
   "cell_type": "code",
   "execution_count": 10,
   "id": "5b41c4d6-a2e9-43ce-8136-ca88ce839b0e",
   "metadata": {},
   "outputs": [],
   "source": [
    "loss_fn=nn.L1Loss()\n",
    "optimizer=torch.optim.SGD(params=model_0.parameters(),\n",
    "                         lr=0.01)#lr=learning rate"
   ]
  },
  {
   "cell_type": "code",
   "execution_count": 11,
   "id": "4010324e-4788-4f37-abd3-518c10629783",
   "metadata": {},
   "outputs": [
    {
     "name": "stdout",
     "output_type": "stream",
     "text": [
      "epoch:0|loss:0.31288138031959534|Test Loss0.48106518387794495\n",
      "OrderedDict({'weights': tensor([0.3406]), 'bias': tensor([0.1388])})\n",
      "****************************************************************\n",
      "epoch:30|loss:0.053148526698350906|Test Loss0.14464017748832703\n",
      "OrderedDict({'weights': tensor([0.4512]), 'bias': tensor([0.3768])})\n",
      "****************************************************************\n",
      "epoch:60|loss:0.03818932920694351|Test Loss0.08886633068323135\n",
      "OrderedDict({'weights': tensor([0.5116]), 'bias': tensor([0.3788])})\n",
      "****************************************************************\n",
      "epoch:90|loss:0.02788739837706089|Test Loss0.06473556160926819\n",
      "OrderedDict({'weights': tensor([0.5629]), 'bias': tensor([0.3573])})\n",
      "****************************************************************\n",
      "epoch:120|loss:0.01758546568453312|Test Loss0.04060482233762741\n",
      "OrderedDict({'weights': tensor([0.6141]), 'bias': tensor([0.3358])})\n",
      "****************************************************************\n",
      "epoch:150|loss:0.0072835334576666355|Test Loss0.016474086791276932\n",
      "OrderedDict({'weights': tensor([0.6654]), 'bias': tensor([0.3143])})\n",
      "****************************************************************\n",
      "epoch:180|loss:0.008932482451200485|Test Loss0.005023092031478882\n",
      "OrderedDict({'weights': tensor([0.6951]), 'bias': tensor([0.2993])})\n",
      "****************************************************************\n"
     ]
    }
   ],
   "source": [
    "#An epoch is one loop through the data \n",
    "\n",
    "epochs=200\n",
    "\n",
    "epoch_count=[]\n",
    "train_loss_value=[]\n",
    "test_loss_value=[]\n",
    "# 0.Loop through the data \n",
    "for epoch in range(epochs):\n",
    "    #set the model in training mode \n",
    "    model_0.train() #train mode in pytorch sets all parameters that require gradients to require gradients\n",
    "    #1 forward pass\n",
    "    y_pred=model_0(X_train)\n",
    "    #2 calculate the loss \n",
    "    loss=loss_fn(y_pred,y_train)\n",
    "    #3 optimizing zero grade \n",
    "    optimizer.zero_grad()\n",
    "    #4 perform backpropagation on the loss with respect to the parameters of the model \n",
    "    loss.backward()\n",
    "    #5 step the optimizer (perform gradient descent )\n",
    "    optimizer.step()\n",
    "    ###Testing\n",
    "    model_0.eval()# turns off diffrent settings in the model not needed for testing\n",
    "    with torch.inference_mode():#turns of diffrent things unused in testing for faster result\n",
    "        #1.Do the forward pass\n",
    "        test_pred=model_0(X_test)\n",
    "        #2. Calculating the loss\n",
    "        test_loss=loss_fn(test_pred,y_test)\n",
    "    if epoch%30==0:\n",
    "        epoch_count.append(epoch)\n",
    "        test_loss_value.append(test_loss)\n",
    "        train_loss_value.append(loss)\n",
    "        print(f'epoch:{epoch}|loss:{loss}|Test Loss{test_loss}')\n",
    "        print(model_0.state_dict())\n",
    "        print('****************************************************************')\n",
    "\n",
    "        \n",
    "        \n",
    "        \n",
    "    \n",
    "    \n",
    "    ##"
   ]
  },
  {
   "cell_type": "code",
   "execution_count": 12,
   "id": "649e25cf-6804-4f6d-8298-23b750c6c4ee",
   "metadata": {},
   "outputs": [
    {
     "data": {
      "text/plain": [
       "<matplotlib.legend.Legend at 0x1f05c360190>"
      ]
     },
     "execution_count": 12,
     "metadata": {},
     "output_type": "execute_result"
    },
    {
     "data": {
      "image/png": "[encoded data removed]",
      "text/plain": [
       "<Figure size 640x480 with 1 Axes>"
      ]
     },
     "metadata": {},
     "output_type": "display_data"
    }
   ],
   "source": [
    "plt.plot(epoch_count,np.array(torch.tensor(train_loss_value).numpy()),label=\"Train loss\")\n",
    "plt.plot(epoch_count,test_loss_value,label=\"Test loss\")\n",
    "plt.title('Training & Test loss curves ')\n",
    "plt.ylabel=('Loss')\n",
    "plt.xlabel=('Epoch')\n",
    "plt.legend()"
   ]
  },
  {
   "cell_type": "markdown",
   "id": "100c70e7-7a3e-445f-b0b1-5c3fa13321d0",
   "metadata": {},
   "source": [
    "## Saving model in pytorch\n",
    "1.`torch.save()`\n",
    "\n",
    "2.`torch.load()`\n",
    "\n",
    "3.`torch.nn.Module.load_state_dict()`\n"
   ]
  },
  {
   "cell_type": "code",
   "execution_count": 18,
   "id": "d126f9b7-0436-4c43-a31a-cd166d809622",
   "metadata": {},
   "outputs": [
    {
     "name": "stdout",
     "output_type": "stream",
     "text": [
      "Saving model to  Models\\Section_01_LinearModel.pth\n"
     ]
    }
   ],
   "source": [
    "#saving our pytorch model\n",
    "from pathlib import Path\n",
    "\n",
    "#1.Create models directory \n",
    "MODEL_PATH=Path(\"Models\")\n",
    "MODEL_PATH.mkdir(parents=True,exist_ok=True)\n",
    "#Create model save path\n",
    "MODEL_NAME=\"Section_01_LinearModel.pth\"\n",
    "MODEL_SAVE_PATH=MODEL_PATH/MODEL_NAME\n",
    "print(f\"Saving model to  {MODEL_SAVE_PATH}\")\n",
    "torch.save(obj=model_0.state_dict(),f=MODEL_SAVE_PATH)\n"
   ]
  },
  {
   "cell_type": "code",
   "execution_count": 24,
   "id": "1e25a69f-cb96-4485-85b3-53612dff7574",
   "metadata": {},
   "outputs": [
    {
     "name": "stdout",
     "output_type": "stream",
     "text": [
      "OrderedDict({'weights': tensor([2.2082]), 'bias': tensor([-0.6380])})\n"
     ]
    }
   ],
   "source": [
    "loaded_model=LinearRegressionModel()\n",
    "print(loaded_model.state_dict())\n",
    "loaded_model.state_dict=torch.load(MODEL_SAVE_PATH)"
   ]
  },
  {
   "cell_type": "code",
   "execution_count": 25,
   "id": "21f9bd54-c571-4927-93d7-36009b3e778b",
   "metadata": {},
   "outputs": [
    {
     "data": {
      "text/plain": [
       "OrderedDict([('weights', tensor([0.6990])), ('bias', tensor([0.3093]))])"
      ]
     },
     "execution_count": 25,
     "metadata": {},
     "output_type": "execute_result"
    }
   ],
   "source": [
    "loaded_model.state_dict"
   ]
  },
  {
   "cell_type": "code",
   "execution_count": null,
   "id": "bd2193c5-1e10-417d-87ad-b2ef28dc49ad",
   "metadata": {},
   "outputs": [],
   "source": []
  }
 ],
 "metadata": {
  "kernelspec": {
   "display_name": "Python 3 (ipykernel)",
   "language": "python",
   "name": "python3"
  },
  "language_info": {
   "codemirror_mode": {
    "name": "ipython",
    "version": 3
   },
   "file_extension": ".py",
   "mimetype": "text/x-python",
   "name": "python",
   "nbconvert_exporter": "python",
   "pygments_lexer": "ipython3",
   "version": "3.13.1"
  }
 },
 "nbformat": 4,
 "nbformat_minor": 5
}
