{
 "cells": [
  {
   "cell_type": "code",
   "execution_count": 3,
   "id": "1d7104f8-7ea2-4da1-8e0d-91e5a1b5961e",
   "metadata": {},
   "outputs": [],
   "source": [
    "import torch\n",
    "import numpy as np\n",
    "import pandas as pd\n",
    "import matplotlib.pyplot as plt\n",
    "%matplotlib inline"
   ]
  },
  {
   "cell_type": "markdown",
   "id": "a80e824e-ed00-4584-9e84-6cfa7b28bc4c",
   "metadata": {
    "jp-MarkdownHeadingCollapsed": true
   },
   "source": [
    "## intro to tensor"
   ]
  },
  {
   "cell_type": "code",
   "execution_count": 5,
   "id": "66e14dbf-1ae2-4513-8e17-2005b13e599b",
   "metadata": {},
   "outputs": [
    {
     "data": {
      "text/plain": [
       "tensor(7)"
      ]
     },
     "execution_count": 5,
     "metadata": {},
     "output_type": "execute_result"
    }
   ],
   "source": [
    "#scalar\n",
    "scalar=torch.tensor(7)\n",
    "scalar"
   ]
  },
  {
   "cell_type": "code",
   "execution_count": 6,
   "id": "6fd0ff17-f970-4dd7-861a-dc26d176b383",
   "metadata": {},
   "outputs": [
    {
     "data": {
      "text/plain": [
       "0"
      ]
     },
     "execution_count": 6,
     "metadata": {},
     "output_type": "execute_result"
    }
   ],
   "source": [
    "scalar.ndim"
   ]
  },
  {
   "cell_type": "code",
   "execution_count": 9,
   "id": "1bac216c-b8df-413f-b827-3e14bc1a586e",
   "metadata": {},
   "outputs": [
    {
     "data": {
      "text/plain": [
       "7"
      ]
     },
     "execution_count": 9,
     "metadata": {},
     "output_type": "execute_result"
    }
   ],
   "source": [
    "# Get tensor back as python int\n",
    "scalar.item()"
   ]
  },
  {
   "cell_type": "code",
   "execution_count": 10,
   "id": "23a96261-48c5-4d2a-9d35-e53dc9fb57a7",
   "metadata": {},
   "outputs": [
    {
     "data": {
      "text/plain": [
       "tensor([7, 7])"
      ]
     },
     "execution_count": 10,
     "metadata": {},
     "output_type": "execute_result"
    }
   ],
   "source": [
    "#vector\n",
    "vector=torch.tensor([7,7])\n",
    "vector"
   ]
  },
  {
   "cell_type": "code",
   "execution_count": 18,
   "id": "4c919884-68d6-4db9-b49a-164d614818f7",
   "metadata": {},
   "outputs": [
    {
     "data": {
      "text/plain": [
       "1"
      ]
     },
     "execution_count": 18,
     "metadata": {},
     "output_type": "execute_result"
    }
   ],
   "source": [
    "vector.ndim"
   ]
  },
  {
   "cell_type": "code",
   "execution_count": 20,
   "id": "2189e4a1-197e-46a5-96a0-6d21e219dfcc",
   "metadata": {},
   "outputs": [
    {
     "data": {
      "text/plain": [
       "torch.Size([2])"
      ]
     },
     "execution_count": 20,
     "metadata": {},
     "output_type": "execute_result"
    }
   ],
   "source": [
    "vector.shape\n"
   ]
  },
  {
   "cell_type": "code",
   "execution_count": 28,
   "id": "c6b2fdd5-31c1-4d98-af30-25cf3a6d0192",
   "metadata": {},
   "outputs": [
    {
     "data": {
      "text/plain": [
       "2"
      ]
     },
     "execution_count": 28,
     "metadata": {},
     "output_type": "execute_result"
    }
   ],
   "source": [
    "x=np.array([[1,5],[5,4]])\n",
    "x.shape\n",
    "x.ndim"
   ]
  },
  {
   "cell_type": "code",
   "execution_count": 29,
   "id": "f23c8a76-797f-44a6-afe7-fb2753589bcf",
   "metadata": {},
   "outputs": [
    {
     "data": {
      "text/plain": [
       "tensor([[ 7,  8],\n",
       "        [ 9, 10]])"
      ]
     },
     "execution_count": 29,
     "metadata": {},
     "output_type": "execute_result"
    }
   ],
   "source": [
    "#MATRIX\n",
    "MATRIX=torch.tensor([[7,8],[9,10]])\n",
    "MATRIX"
   ]
  },
  {
   "cell_type": "code",
   "execution_count": 31,
   "id": "2a621c0c-efaf-4c5a-9ff5-2a746f777556",
   "metadata": {},
   "outputs": [
    {
     "data": {
      "text/plain": [
       "tensor([7, 8])"
      ]
     },
     "execution_count": 31,
     "metadata": {},
     "output_type": "execute_result"
    }
   ],
   "source": [
    "MATRIX[0]"
   ]
  },
  {
   "cell_type": "code",
   "execution_count": 32,
   "id": "110edb87-4f5a-4e39-8f19-a00c32c170d6",
   "metadata": {},
   "outputs": [
    {
     "data": {
      "text/plain": [
       "2"
      ]
     },
     "execution_count": 32,
     "metadata": {},
     "output_type": "execute_result"
    }
   ],
   "source": [
    "MATRIX.ndim"
   ]
  },
  {
   "cell_type": "code",
   "execution_count": 33,
   "id": "69a96052-3e8c-4153-8e6f-afbb453f39c1",
   "metadata": {},
   "outputs": [
    {
     "data": {
      "text/plain": [
       "torch.Size([2, 2])"
      ]
     },
     "execution_count": 33,
     "metadata": {},
     "output_type": "execute_result"
    }
   ],
   "source": [
    "MATRIX.shape"
   ]
  },
  {
   "cell_type": "code",
   "execution_count": 45,
   "id": "59b9d721-bb1b-4dde-9acb-1aae856303f2",
   "metadata": {},
   "outputs": [
    {
     "data": {
      "text/plain": [
       "tensor([[[ 1,  2,  3],\n",
       "         [ 4,  5,  6],\n",
       "         [ 7,  8,  9]],\n",
       "\n",
       "        [[13, 14, 15],\n",
       "         [16, 17, 18],\n",
       "         [10, 11, 12]]])"
      ]
     },
     "execution_count": 45,
     "metadata": {},
     "output_type": "execute_result"
    }
   ],
   "source": [
    "#TENSOR\n",
    "TENSOR=torch.tensor([  [[1,2,3],[4,5,6],[7,8,9]]  ,  [[13,14,15],[16,17,18],[10,11,12]]  ])\n",
    "#this is a matrix torch.tensor([[1,2,3],[4,5,6],[7,8,9]])\n",
    "TENSOR"
   ]
  },
  {
   "cell_type": "code",
   "execution_count": 42,
   "id": "d5479018-086d-4acd-8356-223ad896e1b6",
   "metadata": {},
   "outputs": [
    {
     "data": {
      "text/plain": [
       "torch.Size([1, 3, 3])"
      ]
     },
     "execution_count": 42,
     "metadata": {},
     "output_type": "execute_result"
    }
   ],
   "source": [
    "TENSOR.shape"
   ]
  },
  {
   "cell_type": "code",
   "execution_count": 43,
   "id": "731d5b39-5613-4e67-bfaa-fe154dc62aa3",
   "metadata": {},
   "outputs": [
    {
     "data": {
      "text/plain": [
       "3"
      ]
     },
     "execution_count": 43,
     "metadata": {},
     "output_type": "execute_result"
    }
   ],
   "source": [
    "TENSOR.ndim"
   ]
  },
  {
   "cell_type": "code",
   "execution_count": 49,
   "id": "7f9f8e52-84f2-4c14-9c87-efcb55b01fbf",
   "metadata": {},
   "outputs": [
    {
     "data": {
      "text/plain": [
       "tensor(10)"
      ]
     },
     "execution_count": 49,
     "metadata": {},
     "output_type": "execute_result"
    }
   ],
   "source": [
    "TENSOR[1,2,0]"
   ]
  },
  {
   "cell_type": "markdown",
   "id": "0c7921e4-f33c-4826-aef4-b783b377fd73",
   "metadata": {
    "jp-MarkdownHeadingCollapsed": true
   },
   "source": [
    "## Random Tensor"
   ]
  },
  {
   "cell_type": "markdown",
   "id": "e9cf950e-b975-4540-8ce1-8192f8d919bb",
   "metadata": {},
   "source": [
    "why random tensor are important?\n",
    "because the way many neural networks learn is that they start with tensors full of random number\n",
    "and then adjust those random numbers to better represent the data"
   ]
  },
  {
   "cell_type": "code",
   "execution_count": 53,
   "id": "d9d812d6-b19d-4a95-89eb-ebff82c2b2b0",
   "metadata": {},
   "outputs": [
    {
     "data": {
      "text/plain": [
       "tensor([[0.1660, 0.6330, 0.3093, 0.9610],\n",
       "        [0.4786, 0.7743, 0.1169, 0.5238],\n",
       "        [0.6114, 0.4008, 0.2302, 0.8427]])"
      ]
     },
     "execution_count": 53,
     "metadata": {},
     "output_type": "execute_result"
    }
   ],
   "source": [
    "# Create a random tensors of size(3,4)\n",
    "random_tensor=torch.rand(3,4)\n",
    "random_tensor"
   ]
  },
  {
   "cell_type": "code",
   "execution_count": 54,
   "id": "1b9ca9fa-ea28-4533-95ae-82d0015220cb",
   "metadata": {},
   "outputs": [
    {
     "data": {
      "text/plain": [
       "2"
      ]
     },
     "execution_count": 54,
     "metadata": {},
     "output_type": "execute_result"
    }
   ],
   "source": [
    "random_tensor.ndim"
   ]
  },
  {
   "cell_type": "code",
   "execution_count": 56,
   "id": "0714c86d-0a7c-4e71-8492-aef574d963f1",
   "metadata": {},
   "outputs": [
    {
     "data": {
      "text/plain": [
       "tensor([[[0.5141, 0.3051, 0.8246],\n",
       "         [0.4247, 0.5082, 0.8084],\n",
       "         [0.8562, 0.0373, 0.0539],\n",
       "         ...,\n",
       "         [0.0681, 0.3057, 0.6089],\n",
       "         [0.6552, 0.3517, 0.8321],\n",
       "         [0.2161, 0.3479, 0.3429]],\n",
       "\n",
       "        [[0.3197, 0.2018, 0.1695],\n",
       "         [0.9089, 0.4798, 0.6286],\n",
       "         [0.3301, 0.8955, 0.4485],\n",
       "         ...,\n",
       "         [0.0582, 0.3763, 0.3514],\n",
       "         [0.6952, 0.1811, 0.9296],\n",
       "         [0.4257, 0.6533, 0.1353]],\n",
       "\n",
       "        [[0.3216, 0.5040, 0.5293],\n",
       "         [0.4794, 0.1463, 0.1049],\n",
       "         [0.2939, 0.3138, 0.3376],\n",
       "         ...,\n",
       "         [0.9867, 0.3931, 0.7344],\n",
       "         [0.0514, 0.9799, 0.7740],\n",
       "         [0.5872, 0.8952, 0.6597]],\n",
       "\n",
       "        ...,\n",
       "\n",
       "        [[0.9909, 0.4084, 0.9920],\n",
       "         [0.8271, 0.4419, 0.7393],\n",
       "         [0.3186, 0.3334, 0.5563],\n",
       "         ...,\n",
       "         [0.4628, 0.6863, 0.1485],\n",
       "         [0.6125, 0.0953, 0.1550],\n",
       "         [0.8768, 0.0839, 0.8765]],\n",
       "\n",
       "        [[0.6128, 0.6395, 0.5456],\n",
       "         [0.0520, 0.2991, 0.0879],\n",
       "         [0.3041, 0.0466, 0.3485],\n",
       "         ...,\n",
       "         [0.0568, 0.4143, 0.3905],\n",
       "         [0.4091, 0.6263, 0.1904],\n",
       "         [0.9441, 0.6070, 0.6783]],\n",
       "\n",
       "        [[0.3158, 0.9431, 0.4882],\n",
       "         [0.8144, 0.5390, 0.0516],\n",
       "         [0.7983, 0.8428, 0.3260],\n",
       "         ...,\n",
       "         [0.0429, 0.9502, 0.0136],\n",
       "         [0.3943, 0.4479, 0.1897],\n",
       "         [0.9137, 0.1300, 0.3412]]])"
      ]
     },
     "execution_count": 56,
     "metadata": {},
     "output_type": "execute_result"
    }
   ],
   "source": [
    "#create a random temsor with similar shape  to an image tensor\n",
    "random_image_size_tensor=torch.rand(224,224,3)\n",
    "random_image_size_tensor"
   ]
  },
  {
   "cell_type": "markdown",
   "id": "30aad5cd-9f4d-4830-bf04-405bf331ca1f",
   "metadata": {
    "jp-MarkdownHeadingCollapsed": true
   },
   "source": [
    "## Zeros and Ones"
   ]
  },
  {
   "cell_type": "code",
   "execution_count": 61,
   "id": "ce69b9b6-21f9-41ec-972e-18dd8128c4da",
   "metadata": {},
   "outputs": [
    {
     "data": {
      "text/plain": [
       "tensor([[1., 1., 1., 1.],\n",
       "        [1., 1., 1., 1.],\n",
       "        [1., 1., 1., 1.]])"
      ]
     },
     "execution_count": 61,
     "metadata": {},
     "output_type": "execute_result"
    }
   ],
   "source": [
    "#Create a tensor of all zeros\n",
    "zeros=torch.zeros(3,4)\n",
    "zeros\n",
    "ones=torch.ones(3,4)\n",
    "ones"
   ]
  },
  {
   "cell_type": "code",
   "execution_count": 62,
   "id": "b2dccfdd-6ab2-4110-80f7-6dc680f92574",
   "metadata": {},
   "outputs": [
    {
     "data": {
      "text/plain": [
       "torch.float32"
      ]
     },
     "execution_count": 62,
     "metadata": {},
     "output_type": "execute_result"
    }
   ],
   "source": [
    "ones.dtype"
   ]
  },
  {
   "cell_type": "markdown",
   "id": "8acce3a8-6a37-40a5-a57e-c39a5c090106",
   "metadata": {
    "jp-MarkdownHeadingCollapsed": true
   },
   "source": [
    "## Creating a range of tesors and tesnsors like"
   ]
  },
  {
   "cell_type": "code",
   "execution_count": 68,
   "id": "36989eb1-8d72-445b-94aa-a73f3c80819b",
   "metadata": {},
   "outputs": [
    {
     "data": {
      "text/plain": [
       "tensor([ 1,  2,  3,  4,  5,  6,  7,  8,  9, 10])"
      ]
     },
     "execution_count": 68,
     "metadata": {},
     "output_type": "execute_result"
    }
   ],
   "source": [
    "# use torch.range\n",
    "x=torch.arange(start=1,end=11)\n",
    "x"
   ]
  },
  {
   "cell_type": "code",
   "execution_count": 69,
   "id": "e0e45e08-46ea-4332-9c85-c349e88203fe",
   "metadata": {},
   "outputs": [
    {
     "data": {
      "text/plain": [
       "tensor([0, 0, 0, 0, 0, 0, 0, 0, 0, 0])"
      ]
     },
     "execution_count": 69,
     "metadata": {},
     "output_type": "execute_result"
    }
   ],
   "source": [
    "ten_zeros=torch.zeros_like(input=x)\n",
    "ten_zeros"
   ]
  },
  {
   "cell_type": "markdown",
   "id": "3108e099-9f5c-4298-ab39-55b02f4487b3",
   "metadata": {
    "jp-MarkdownHeadingCollapsed": true
   },
   "source": [
    "## Tensor DataType"
   ]
  },
  {
   "cell_type": "code",
   "execution_count": 89,
   "id": "90cc87d8-5d55-44f7-817e-50027845218f",
   "metadata": {},
   "outputs": [],
   "source": [
    "#float 32 tensor\n",
    "float_32_tensor= torch.tensor([3.0,6,9],dtype=float,device=None,requires_grad=False)"
   ]
  },
  {
   "cell_type": "code",
   "execution_count": 91,
   "id": "2512d3d7-195e-43bc-8fc0-838644d2097c",
   "metadata": {},
   "outputs": [
    {
     "name": "stdout",
     "output_type": "stream",
     "text": [
      "cpu\n",
      "torch.float64\n"
     ]
    }
   ],
   "source": [
    "print(float_32_tensor.device)\n",
    "print(float_32_tensor.dtype)"
   ]
  },
  {
   "cell_type": "code",
   "execution_count": 92,
   "id": "327f485a-715a-4ec4-ad25-576b3dedac56",
   "metadata": {},
   "outputs": [],
   "source": [
    "float_16_tensor=float_32_tensor.type(torch.float16)"
   ]
  },
  {
   "cell_type": "code",
   "execution_count": 93,
   "id": "478a35f3-aeba-4f05-85f9-04062e9bf25e",
   "metadata": {},
   "outputs": [
    {
     "data": {
      "text/plain": [
       "torch.float16"
      ]
     },
     "execution_count": 93,
     "metadata": {},
     "output_type": "execute_result"
    }
   ],
   "source": [
    "float_16_tensor.dtype"
   ]
  },
  {
   "cell_type": "code",
   "execution_count": 105,
   "id": "45f3542e-25af-470c-8375-a6764789fc00",
   "metadata": {},
   "outputs": [],
   "source": [
    "x=torch.tensor(data=2,dtype=torch.float64)"
   ]
  },
  {
   "cell_type": "code",
   "execution_count": 106,
   "id": "d16c0ac8-5927-4a39-821d-27a4f3b4f3db",
   "metadata": {},
   "outputs": [
    {
     "data": {
      "text/plain": [
       "8"
      ]
     },
     "execution_count": 106,
     "metadata": {},
     "output_type": "execute_result"
    }
   ],
   "source": [
    "x.itemsize"
   ]
  },
  {
   "cell_type": "markdown",
   "id": "87c15caa-cbf3-4a65-aaab-f1f9f1b746aa",
   "metadata": {
    "jp-MarkdownHeadingCollapsed": true
   },
   "source": [
    "## Tensor Operation"
   ]
  },
  {
   "cell_type": "code",
   "execution_count": 107,
   "id": "d9437f12-aecd-4031-ac12-1c061f51a4f0",
   "metadata": {},
   "outputs": [],
   "source": [
    "#Mainpulating tensor (tensor operation)"
   ]
  },
  {
   "cell_type": "code",
   "execution_count": 108,
   "id": "4d1914ae-1f7a-4daa-9566-c5d8c2c82786",
   "metadata": {},
   "outputs": [
    {
     "data": {
      "text/plain": [
       "tensor([1, 2, 3])"
      ]
     },
     "execution_count": 108,
     "metadata": {},
     "output_type": "execute_result"
    }
   ],
   "source": [
    "tensor=torch.tensor([1,2,3])\n",
    "tensor"
   ]
  },
  {
   "cell_type": "code",
   "execution_count": 111,
   "id": "aedb5b16-7366-45d6-a0a7-7a9ecb81ce72",
   "metadata": {},
   "outputs": [
    {
     "name": "stdout",
     "output_type": "stream",
     "text": [
      "tensor([10, 20, 30])\n",
      "tensor([11, 12, 13])\n",
      "tensor([-9, -8, -7])\n",
      "tensor([    1,  1024, 59049])\n"
     ]
    }
   ],
   "source": [
    "print(tensor*10)\n",
    "print(tensor+10)\n",
    "print(tensor-10)\n",
    "print(tensor**10)"
   ]
  },
  {
   "cell_type": "code",
   "execution_count": 6,
   "id": "d9c3614b-9baf-4c47-8162-b73c94a94d16",
   "metadata": {},
   "outputs": [
    {
     "name": "stdout",
     "output_type": "stream",
     "text": [
      "CPU times: total: 0 ns\n",
      "Wall time: 458 μs\n"
     ]
    },
    {
     "data": {
      "text/plain": [
       "tensor([[1, 2],\n",
       "        [3, 4]])"
      ]
     },
     "execution_count": 6,
     "metadata": {},
     "output_type": "execute_result"
    }
   ],
   "source": [
    "%%time\n",
    "MatA=torch.tensor([[1,2],[3,4]])\n",
    "MatB=torch.tensor([[1,0],[0,1]])\n",
    "torch.matmul(MatA,MatB)"
   ]
  },
  {
   "cell_type": "markdown",
   "id": "d35d228d-7156-416e-aa82-b64c2ddbed88",
   "metadata": {
    "jp-MarkdownHeadingCollapsed": true
   },
   "source": [
    "## one of the most common errors in deep learning:Shape Errors"
   ]
  },
  {
   "cell_type": "code",
   "execution_count": 8,
   "id": "b25f968f-4f06-4dd1-aa19-babb613edde6",
   "metadata": {},
   "outputs": [
    {
     "data": {
      "text/plain": [
       "tensor([[ 5,  8, 25],\n",
       "        [13, 22, 59],\n",
       "        [21, 36, 93]])"
      ]
     },
     "execution_count": 8,
     "metadata": {},
     "output_type": "execute_result"
    }
   ],
   "source": [
    "mat_a=torch.tensor([[1,2],[3,4],[5,6]])\n",
    "mat_b=torch.tensor([[3,1],[6,1],[9,8]])\n",
    "torch.matmul(mat_a,mat_b.T)"
   ]
  },
  {
   "cell_type": "markdown",
   "id": "93f0a3dc-f1f2-4d99-a636-5e3d518c1fc7",
   "metadata": {
    "jp-MarkdownHeadingCollapsed": true
   },
   "source": [
    "## Finding min,max,mean,sum,etc(tensor aggregation)"
   ]
  },
  {
   "cell_type": "code",
   "execution_count": 11,
   "id": "a32f7adf-7ebb-47c8-97d9-35acd74b53a4",
   "metadata": {},
   "outputs": [],
   "source": [
    "x=torch.arange(0,100,10)"
   ]
  },
  {
   "cell_type": "code",
   "execution_count": 32,
   "id": "ac780f3e-1123-4dfa-82c8-f514438fc15b",
   "metadata": {},
   "outputs": [
    {
     "data": {
      "text/plain": [
       "(tensor(0), tensor(0))"
      ]
     },
     "execution_count": 32,
     "metadata": {},
     "output_type": "execute_result"
    }
   ],
   "source": [
    "torch.min(x),x.min()"
   ]
  },
  {
   "cell_type": "code",
   "execution_count": 33,
   "id": "2f9c5b05-0b45-4222-9fe6-9185039dc20a",
   "metadata": {},
   "outputs": [
    {
     "data": {
      "text/plain": [
       "(tensor(90), <function Tensor.max>)"
      ]
     },
     "execution_count": 33,
     "metadata": {},
     "output_type": "execute_result"
    }
   ],
   "source": [
    "torch.max(x),x.max"
   ]
  },
  {
   "cell_type": "code",
   "execution_count": 36,
   "id": "9e573d50-e553-4c11-8e83-df75eb83104b",
   "metadata": {},
   "outputs": [
    {
     "ename": "RuntimeError",
     "evalue": "mean(): could not infer output dtype. Input dtype must be either a floating point or complex dtype. Got: Long",
     "output_type": "error",
     "traceback": [
      "\u001b[1;31m---------------------------------------------------------------------------\u001b[0m",
      "\u001b[1;31mRuntimeError\u001b[0m                              Traceback (most recent call last)",
      "Cell \u001b[1;32mIn[36], line 1\u001b[0m\n\u001b[1;32m----> 1\u001b[0m \u001b[43mtorch\u001b[49m\u001b[38;5;241;43m.\u001b[39;49m\u001b[43mmean\u001b[49m\u001b[43m(\u001b[49m\u001b[43mx\u001b[49m\u001b[43m)\u001b[49m\n",
      "\u001b[1;31mRuntimeError\u001b[0m: mean(): could not infer output dtype. Input dtype must be either a floating point or complex dtype. Got: Long"
     ]
    }
   ],
   "source": [
    "torch.mean(x)"
   ]
  },
  {
   "cell_type": "code",
   "execution_count": 38,
   "id": "4946a163-2b62-46bc-ab61-561249d796bc",
   "metadata": {},
   "outputs": [
    {
     "data": {
      "text/plain": [
       "(tensor(45.), tensor(45.))"
      ]
     },
     "execution_count": 38,
     "metadata": {},
     "output_type": "execute_result"
    }
   ],
   "source": [
    "torch.mean(x.type(torch.float32)),x.type(torch.float32).mean()"
   ]
  },
  {
   "cell_type": "code",
   "execution_count": 39,
   "id": "4811b66d-8b8e-46c3-8524-7498db3053a5",
   "metadata": {},
   "outputs": [
    {
     "data": {
      "text/plain": [
       "(tensor(450), tensor(450))"
      ]
     },
     "execution_count": 39,
     "metadata": {},
     "output_type": "execute_result"
    }
   ],
   "source": [
    "torch.sum(x),x.sum()"
   ]
  },
  {
   "cell_type": "code",
   "execution_count": 43,
   "id": "be310452-5dfa-4cdc-bdb6-e3d7af7ad3e5",
   "metadata": {},
   "outputs": [
    {
     "data": {
      "text/plain": [
       "(tensor(9), tensor(9))"
      ]
     },
     "execution_count": 43,
     "metadata": {},
     "output_type": "execute_result"
    }
   ],
   "source": [
    "torch.argmax(x),x.argmax()##show us the position of the minimum element"
   ]
  },
  {
   "cell_type": "markdown",
   "id": "e0c91af6-2a96-4e19-b159-740e2fbd04e9",
   "metadata": {},
   "source": [
    "## Reashaping,stacking tensors"
   ]
  },
  {
   "cell_type": "code",
   "execution_count": 78,
   "id": "98ce1bc1-bba0-4001-a3f6-b8b7d87cc9dc",
   "metadata": {},
   "outputs": [
    {
     "data": {
      "text/plain": [
       "tensor([1, 2, 3, 4, 5, 6, 7, 8, 9])"
      ]
     },
     "execution_count": 78,
     "metadata": {},
     "output_type": "execute_result"
    }
   ],
   "source": [
    "x=torch.arange(1,10)\n",
    "x"
   ]
  },
  {
   "cell_type": "code",
   "execution_count": 116,
   "id": "81e74f19-9257-4cb4-a72c-38859d1989a6",
   "metadata": {},
   "outputs": [
    {
     "data": {
      "text/plain": [
       "tensor([[1, 2, 3, 4, 5, 6, 7, 8, 9]])"
      ]
     },
     "execution_count": 116,
     "metadata": {},
     "output_type": "execute_result"
    }
   ],
   "source": [
    "x_reshaped=x.reshape([1,9])\n",
    "x_reshaped"
   ]
  },
  {
   "cell_type": "code",
   "execution_count": 80,
   "id": "f0d2ee09-1b70-4123-aa36-f7f154507344",
   "metadata": {},
   "outputs": [
    {
     "data": {
      "text/plain": [
       "tensor([[1, 2, 3],\n",
       "        [4, 5, 6],\n",
       "        [7, 8, 9]])"
      ]
     },
     "execution_count": 80,
     "metadata": {},
     "output_type": "execute_result"
    }
   ],
   "source": [
    "x_review=x.view([3,3])\n",
    "x_review"
   ]
  },
  {
   "cell_type": "code",
   "execution_count": 81,
   "id": "ff596965-53dd-4327-aca3-dc6724b59e9c",
   "metadata": {},
   "outputs": [],
   "source": [
    "## Search for the diffrence between view and reshape"
   ]
  },
  {
   "cell_type": "code",
   "execution_count": 106,
   "id": "e6e4dc67-2924-489b-8f90-13cd06d824d9",
   "metadata": {},
   "outputs": [
    {
     "name": "stdout",
     "output_type": "stream",
     "text": [
      "tensor([1, 2, 3, 4, 5, 6, 7, 8, 9])\n",
      "\n"
     ]
    },
    {
     "data": {
      "text/plain": [
       "tensor([[1, 2, 3, 4, 5, 6, 7, 8, 9],\n",
       "        [1, 2, 3, 4, 5, 6, 7, 8, 9],\n",
       "        [1, 2, 3, 4, 5, 6, 7, 8, 9],\n",
       "        [1, 2, 3, 4, 5, 6, 7, 8, 9],\n",
       "        [1, 2, 3, 4, 5, 6, 7, 8, 9],\n",
       "        [1, 2, 3, 4, 5, 6, 7, 8, 9],\n",
       "        [1, 2, 3, 4, 5, 6, 7, 8, 9],\n",
       "        [1, 2, 3, 4, 5, 6, 7, 8, 9],\n",
       "        [1, 2, 3, 4, 5, 6, 7, 8, 9]])"
      ]
     },
     "execution_count": 106,
     "metadata": {},
     "output_type": "execute_result"
    }
   ],
   "source": [
    "#Stacking: combine multiple tensors on top of each other (vstack) or side by side(hstack)\n",
    "x_stack=torch.stack([x,x,x,x,x,x,x,x,x],dim=0)\n",
    "\n",
    "print(f'{x}\\n')\n",
    "x_stack"
   ]
  },
  {
   "cell_type": "code",
   "execution_count": 103,
   "id": "e905d667-2730-40ff-b284-360135ff5312",
   "metadata": {},
   "outputs": [
    {
     "name": "stdout",
     "output_type": "stream",
     "text": [
      "tensor([1, 2, 3, 4, 5, 6, 7, 8, 9])\n",
      "\n"
     ]
    },
    {
     "data": {
      "text/plain": [
       "tensor([[1, 1, 1, 1, 1, 1, 1, 1, 1],\n",
       "        [2, 2, 2, 2, 2, 2, 2, 2, 2],\n",
       "        [3, 3, 3, 3, 3, 3, 3, 3, 3],\n",
       "        [4, 4, 4, 4, 4, 4, 4, 4, 4],\n",
       "        [5, 5, 5, 5, 5, 5, 5, 5, 5],\n",
       "        [6, 6, 6, 6, 6, 6, 6, 6, 6],\n",
       "        [7, 7, 7, 7, 7, 7, 7, 7, 7],\n",
       "        [8, 8, 8, 8, 8, 8, 8, 8, 8],\n",
       "        [9, 9, 9, 9, 9, 9, 9, 9, 9]])"
      ]
     },
     "execution_count": 103,
     "metadata": {},
     "output_type": "execute_result"
    }
   ],
   "source": [
    "x_stack=torch.stack([x,x,x,x,x,x,x,x,x],dim=1)\n",
    "print(f'{x}\\n')\n",
    "x_stack"
   ]
  },
  {
   "cell_type": "markdown",
   "id": "47cd537b-6cbe-417b-8873-aa66f7c026df",
   "metadata": {},
   "source": [
    "## squeezing,unsqueezing tensors"
   ]
  },
  {
   "cell_type": "code",
   "execution_count": 125,
   "id": "51921299-6480-492f-b7df-5a3f017626b2",
   "metadata": {},
   "outputs": [
    {
     "name": "stdout",
     "output_type": "stream",
     "text": [
      "x_reshaped shape is :torch.Size([1, 9])\n",
      "squeezing x_reshaped result shape is:torch.Size([9])\n",
      "unsqueezing x_squeezed in dim=0 result shape is:torch.Size([1, 9])\n",
      "unsqueezing x_squeezed in dim=1 result shape is:torch.Size([9, 1])\n"
     ]
    }
   ],
   "source": [
    "# squeezing : remove all single dimensions from a target tensor\n",
    "print(f'x_reshaped shape is :{x_reshaped.shape}')\n",
    "x_squeezed=torch.squeeze(x_reshaped)\n",
    "print(f'squeezing x_reshaped result shape is:{x_squeezed.shape}')\n",
    "x_unsqueezed=torch.unsqueeze(x_squeezed,dim=0)\n",
    "print(f'unsqueezing x_squeezed in dim=0 result shape is:{x_unsqueezed.shape}')\n",
    "x_unsqueezed=torch.unsqueeze(x_squeezed,dim=1)\n",
    "print(f'unsqueezing x_squeezed in dim=1 result shape is:{x_unsqueezed.shape}')\n",
    "\n"
   ]
  },
  {
   "cell_type": "markdown",
   "id": "8f9775fa-20a0-4fb5-a613-723f186080dc",
   "metadata": {},
   "source": [
    "## torch.permute:\n",
    "rearranges the dimensions of a target tensor in special orders"
   ]
  },
  {
   "cell_type": "code",
   "execution_count": 131,
   "id": "a367ebd8-bd7a-4f21-a686-9a0762296d61",
   "metadata": {},
   "outputs": [
    {
     "name": "stdout",
     "output_type": "stream",
     "text": [
      "torch.Size([224, 224, 3])\n",
      "torch.Size([3, 224, 224])\n"
     ]
    }
   ],
   "source": [
    "x_original=torch.rand(size=(224,224,3))#height,width ,color_channels\n",
    "x_permuted=x_original.permute(2,0,1)\n",
    "print(x_original.shape)\n",
    "print(x_permuted.shape)"
   ]
  },
  {
   "cell_type": "code",
   "execution_count": 133,
   "id": "76efb0a8-f1fe-4b95-b6de-1da279a1cce1",
   "metadata": {},
   "outputs": [
    {
     "data": {
      "text/plain": [
       "tensor([[[0.2276, 0.9851, 0.4837,  ..., 0.8674, 0.0050, 0.7194],\n",
       "         [0.7118, 0.3960, 0.4611,  ..., 0.5893, 0.4343, 0.4934],\n",
       "         [0.3041, 0.9188, 0.3805,  ..., 0.6653, 0.6897, 0.8569],\n",
       "         ...,\n",
       "         [0.6257, 0.0675, 0.5282,  ..., 0.7105, 0.9557, 0.0862],\n",
       "         [0.2929, 0.1184, 0.6387,  ..., 0.3446, 0.8795, 0.6993],\n",
       "         [0.8339, 0.7501, 0.9088,  ..., 0.2130, 0.8987, 0.0851]],\n",
       "\n",
       "        [[0.7666, 0.4512, 0.9981,  ..., 0.6138, 0.6436, 0.8187],\n",
       "         [0.7539, 0.7337, 0.9694,  ..., 0.6756, 0.3146, 0.1395],\n",
       "         [0.8064, 0.2067, 0.7245,  ..., 0.4108, 0.3164, 0.3920],\n",
       "         ...,\n",
       "         [0.5652, 0.9251, 0.1290,  ..., 0.4376, 0.6987, 0.1886],\n",
       "         [0.0172, 0.4912, 0.6059,  ..., 0.2232, 0.3378, 0.2434],\n",
       "         [0.5091, 0.3650, 0.9672,  ..., 0.0170, 0.9663, 0.4238]],\n",
       "\n",
       "        [[0.2960, 0.4861, 0.3382,  ..., 0.1405, 0.3409, 0.4777],\n",
       "         [0.9442, 0.3767, 0.2695,  ..., 0.2183, 0.3146, 0.0566],\n",
       "         [0.3356, 0.8084, 0.7563,  ..., 0.0123, 0.7801, 0.2237],\n",
       "         ...,\n",
       "         [0.5283, 0.4836, 0.4421,  ..., 0.7353, 0.5141, 0.0180],\n",
       "         [0.1867, 0.1831, 0.4354,  ..., 0.1653, 0.8254, 0.1354],\n",
       "         [0.5782, 0.6530, 0.3468,  ..., 0.0608, 0.3996, 0.4506]]])"
      ]
     },
     "execution_count": 133,
     "metadata": {},
     "output_type": "execute_result"
    }
   ],
   "source": [
    "x_permuted"
   ]
  },
  {
   "cell_type": "markdown",
   "id": "2c77e8ea-4257-4c62-95fe-bdfb0234e4a2",
   "metadata": {},
   "source": [
    "## Numpy&Pytorch"
   ]
  },
  {
   "cell_type": "code",
   "execution_count": 139,
   "id": "9f123ff5-0969-48e0-81cf-b3f39d1400cb",
   "metadata": {},
   "outputs": [
    {
     "data": {
      "text/plain": [
       "(array([1., 2., 3., 4., 5., 6., 7.]),\n",
       " tensor([1., 2., 3., 4., 5., 6., 7.], dtype=torch.float64))"
      ]
     },
     "execution_count": 139,
     "metadata": {},
     "output_type": "execute_result"
    }
   ],
   "source": [
    "array=np.arange(1.0,8.0)\n",
    "tensor=torch.from_numpy(array)\n",
    "array,tensor"
   ]
  },
  {
   "cell_type": "code",
   "execution_count": 140,
   "id": "52c3e0f5-59b6-4521-bcdb-bd562fb289cc",
   "metadata": {},
   "outputs": [
    {
     "data": {
      "text/plain": [
       "dtype('float64')"
      ]
     },
     "execution_count": 140,
     "metadata": {},
     "output_type": "execute_result"
    }
   ],
   "source": [
    "array.dtype"
   ]
  },
  {
   "cell_type": "code",
   "execution_count": 141,
   "id": "c6a9b22f-55ff-4eca-b0bb-6fd621f1f665",
   "metadata": {},
   "outputs": [
    {
     "data": {
      "text/plain": [
       "torch.float64"
      ]
     },
     "execution_count": 141,
     "metadata": {},
     "output_type": "execute_result"
    }
   ],
   "source": [
    "tensor.dtype"
   ]
  },
  {
   "cell_type": "code",
   "execution_count": 142,
   "id": "6e13694b-2554-4288-8156-e4326cc961ca",
   "metadata": {},
   "outputs": [
    {
     "data": {
      "text/plain": [
       "torch.float32"
      ]
     },
     "execution_count": 142,
     "metadata": {},
     "output_type": "execute_result"
    }
   ],
   "source": [
    "torch.arange(1.0,8.0).dtype#defult dtype of torch float32 and numpy is float 64"
   ]
  },
  {
   "cell_type": "code",
   "execution_count": 143,
   "id": "abde3180-71be-43c0-b9ae-0e2fe87e104d",
   "metadata": {},
   "outputs": [],
   "source": [
    "# changing array and tensor does not effect on each other "
   ]
  },
  {
   "cell_type": "markdown",
   "id": "c935f808-fcd2-4b75-b1bc-98d3113d484b",
   "metadata": {},
   "source": [
    "## Reproducbility (trying to take random out of random)\n",
    "In short how neural network learn:\n",
    "\n",
    "start with random number --> tensor operation --> update random numbers to try and make them better representations of the  data \n",
    "--> again --> again --> again...."
   ]
  },
  {
   "cell_type": "code",
   "execution_count": 148,
   "id": "65736ea3-204f-473d-801c-47d3a480ce41",
   "metadata": {},
   "outputs": [
    {
     "name": "stdout",
     "output_type": "stream",
     "text": [
      "tensor([[True, True, True, True],\n",
      "        [True, True, True, True],\n",
      "        [True, True, True, True]])\n"
     ]
    }
   ],
   "source": [
    "#random seed\n",
    "random_seed=44\n",
    "torch.manual_seed(random_seed)\n",
    "A=torch.rand(3,4)\n",
    "torch.manual_seed(random_seed)\n",
    "B=torch.rand(3,4)\n",
    "print(B==A)"
   ]
  },
  {
   "cell_type": "code",
   "execution_count": 149,
   "id": "1327f0d9-adf5-46c6-9aa3-b8863cfe446d",
   "metadata": {},
   "outputs": [
    {
     "data": {
      "text/plain": [
       "False"
      ]
     },
     "execution_count": 149,
     "metadata": {},
     "output_type": "execute_result"
    }
   ],
   "source": [
    "torch.cuda.is_available()"
   ]
  },
  {
   "cell_type": "code",
   "execution_count": null,
   "id": "3ce71a41-e6cc-4d5e-a194-d7e3c4333baf",
   "metadata": {},
   "outputs": [],
   "source": []
  },
  {
   "cell_type": "code",
   "execution_count": null,
   "id": "32274c40-52c1-42dc-986c-1699afc0d506",
   "metadata": {},
   "outputs": [],
   "source": []
  }
 ],
 "metadata": {
  "kernelspec": {
   "display_name": "Python 3 (ipykernel)",
   "language": "python",
   "name": "python3"
  },
  "language_info": {
   "codemirror_mode": {
    "name": "ipython",
    "version": 3
   },
   "file_extension": ".py",
   "mimetype": "text/x-python",
   "name": "python",
   "nbconvert_exporter": "python",
   "pygments_lexer": "ipython3",
   "version": "3.13.1"
  }
 },
 "nbformat": 4,
 "nbformat_minor": 5
}
